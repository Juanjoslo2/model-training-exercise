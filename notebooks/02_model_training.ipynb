{
 "cells": [
  {
   "cell_type": "markdown",
   "metadata": {},
   "source": [
    "# ***Model Training***\n"
   ]
  },
  {
   "cell_type": "code",
   "execution_count": 1,
   "metadata": {},
   "outputs": [],
   "source": [
    "\n",
    "import pandas as pd\n",
    "import sklearn\n",
    "import seaborn as sns\n",
    "import matplotlib.pyplot as plt"
   ]
  },
  {
   "cell_type": "markdown",
   "metadata": {},
   "source": [
    "### **We review the remaining columns of the Dataset**"
   ]
  },
  {
   "cell_type": "code",
   "execution_count": 2,
   "metadata": {},
   "outputs": [
    {
     "data": {
      "text/html": [
       "<div>\n",
       "<style scoped>\n",
       "    .dataframe tbody tr th:only-of-type {\n",
       "        vertical-align: middle;\n",
       "    }\n",
       "\n",
       "    .dataframe tbody tr th {\n",
       "        vertical-align: top;\n",
       "    }\n",
       "\n",
       "    .dataframe thead th {\n",
       "        text-align: right;\n",
       "    }\n",
       "</style>\n",
       "<table border=\"1\" class=\"dataframe\">\n",
       "  <thead>\n",
       "    <tr style=\"text-align: right;\">\n",
       "      <th></th>\n",
       "      <th>condition</th>\n",
       "      <th>listing_type_id</th>\n",
       "      <th>price</th>\n",
       "      <th>buying_mode</th>\n",
       "      <th>accepts_mercadopago</th>\n",
       "      <th>automatic_relist</th>\n",
       "      <th>status</th>\n",
       "      <th>initial_quantity</th>\n",
       "      <th>available_quantity</th>\n",
       "      <th>free_shipping</th>\n",
       "      <th>mode</th>\n",
       "      <th>local_pick_up</th>\n",
       "    </tr>\n",
       "  </thead>\n",
       "  <tbody>\n",
       "    <tr>\n",
       "      <th>0</th>\n",
       "      <td>new</td>\n",
       "      <td>bronze</td>\n",
       "      <td>80.0</td>\n",
       "      <td>buy_it_now</td>\n",
       "      <td>True</td>\n",
       "      <td>False</td>\n",
       "      <td>active</td>\n",
       "      <td>1</td>\n",
       "      <td>1</td>\n",
       "      <td>False</td>\n",
       "      <td>not_specified</td>\n",
       "      <td>True</td>\n",
       "    </tr>\n",
       "    <tr>\n",
       "      <th>1</th>\n",
       "      <td>used</td>\n",
       "      <td>silver</td>\n",
       "      <td>2650.0</td>\n",
       "      <td>buy_it_now</td>\n",
       "      <td>True</td>\n",
       "      <td>False</td>\n",
       "      <td>active</td>\n",
       "      <td>1</td>\n",
       "      <td>1</td>\n",
       "      <td>False</td>\n",
       "      <td>me2</td>\n",
       "      <td>True</td>\n",
       "    </tr>\n",
       "    <tr>\n",
       "      <th>2</th>\n",
       "      <td>used</td>\n",
       "      <td>bronze</td>\n",
       "      <td>60.0</td>\n",
       "      <td>buy_it_now</td>\n",
       "      <td>True</td>\n",
       "      <td>False</td>\n",
       "      <td>active</td>\n",
       "      <td>1</td>\n",
       "      <td>1</td>\n",
       "      <td>False</td>\n",
       "      <td>me2</td>\n",
       "      <td>True</td>\n",
       "    </tr>\n",
       "    <tr>\n",
       "      <th>3</th>\n",
       "      <td>new</td>\n",
       "      <td>silver</td>\n",
       "      <td>580.0</td>\n",
       "      <td>buy_it_now</td>\n",
       "      <td>True</td>\n",
       "      <td>False</td>\n",
       "      <td>active</td>\n",
       "      <td>1</td>\n",
       "      <td>1</td>\n",
       "      <td>False</td>\n",
       "      <td>me2</td>\n",
       "      <td>True</td>\n",
       "    </tr>\n",
       "    <tr>\n",
       "      <th>4</th>\n",
       "      <td>used</td>\n",
       "      <td>bronze</td>\n",
       "      <td>30.0</td>\n",
       "      <td>buy_it_now</td>\n",
       "      <td>True</td>\n",
       "      <td>False</td>\n",
       "      <td>active</td>\n",
       "      <td>1</td>\n",
       "      <td>1</td>\n",
       "      <td>False</td>\n",
       "      <td>not_specified</td>\n",
       "      <td>True</td>\n",
       "    </tr>\n",
       "    <tr>\n",
       "      <th>...</th>\n",
       "      <td>...</td>\n",
       "      <td>...</td>\n",
       "      <td>...</td>\n",
       "      <td>...</td>\n",
       "      <td>...</td>\n",
       "      <td>...</td>\n",
       "      <td>...</td>\n",
       "      <td>...</td>\n",
       "      <td>...</td>\n",
       "      <td>...</td>\n",
       "      <td>...</td>\n",
       "      <td>...</td>\n",
       "    </tr>\n",
       "    <tr>\n",
       "      <th>99368</th>\n",
       "      <td>used</td>\n",
       "      <td>free</td>\n",
       "      <td>30.0</td>\n",
       "      <td>buy_it_now</td>\n",
       "      <td>True</td>\n",
       "      <td>False</td>\n",
       "      <td>active</td>\n",
       "      <td>1</td>\n",
       "      <td>1</td>\n",
       "      <td>False</td>\n",
       "      <td>me2</td>\n",
       "      <td>True</td>\n",
       "    </tr>\n",
       "    <tr>\n",
       "      <th>99369</th>\n",
       "      <td>new</td>\n",
       "      <td>bronze</td>\n",
       "      <td>239.0</td>\n",
       "      <td>buy_it_now</td>\n",
       "      <td>True</td>\n",
       "      <td>False</td>\n",
       "      <td>active</td>\n",
       "      <td>5</td>\n",
       "      <td>5</td>\n",
       "      <td>False</td>\n",
       "      <td>not_specified</td>\n",
       "      <td>False</td>\n",
       "    </tr>\n",
       "    <tr>\n",
       "      <th>99370</th>\n",
       "      <td>used</td>\n",
       "      <td>bronze</td>\n",
       "      <td>600.0</td>\n",
       "      <td>buy_it_now</td>\n",
       "      <td>True</td>\n",
       "      <td>False</td>\n",
       "      <td>active</td>\n",
       "      <td>1</td>\n",
       "      <td>1</td>\n",
       "      <td>False</td>\n",
       "      <td>me2</td>\n",
       "      <td>False</td>\n",
       "    </tr>\n",
       "    <tr>\n",
       "      <th>99371</th>\n",
       "      <td>used</td>\n",
       "      <td>bronze</td>\n",
       "      <td>50.0</td>\n",
       "      <td>buy_it_now</td>\n",
       "      <td>True</td>\n",
       "      <td>False</td>\n",
       "      <td>active</td>\n",
       "      <td>1</td>\n",
       "      <td>1</td>\n",
       "      <td>False</td>\n",
       "      <td>me2</td>\n",
       "      <td>True</td>\n",
       "    </tr>\n",
       "    <tr>\n",
       "      <th>99372</th>\n",
       "      <td>used</td>\n",
       "      <td>bronze</td>\n",
       "      <td>75.0</td>\n",
       "      <td>buy_it_now</td>\n",
       "      <td>True</td>\n",
       "      <td>False</td>\n",
       "      <td>active</td>\n",
       "      <td>1</td>\n",
       "      <td>1</td>\n",
       "      <td>False</td>\n",
       "      <td>me2</td>\n",
       "      <td>True</td>\n",
       "    </tr>\n",
       "  </tbody>\n",
       "</table>\n",
       "<p>99373 rows × 12 columns</p>\n",
       "</div>"
      ],
      "text/plain": [
       "      condition listing_type_id   price buying_mode  accepts_mercadopago  \\\n",
       "0           new          bronze    80.0  buy_it_now                 True   \n",
       "1          used          silver  2650.0  buy_it_now                 True   \n",
       "2          used          bronze    60.0  buy_it_now                 True   \n",
       "3           new          silver   580.0  buy_it_now                 True   \n",
       "4          used          bronze    30.0  buy_it_now                 True   \n",
       "...         ...             ...     ...         ...                  ...   \n",
       "99368      used            free    30.0  buy_it_now                 True   \n",
       "99369       new          bronze   239.0  buy_it_now                 True   \n",
       "99370      used          bronze   600.0  buy_it_now                 True   \n",
       "99371      used          bronze    50.0  buy_it_now                 True   \n",
       "99372      used          bronze    75.0  buy_it_now                 True   \n",
       "\n",
       "       automatic_relist  status  initial_quantity  available_quantity  \\\n",
       "0                 False  active                 1                   1   \n",
       "1                 False  active                 1                   1   \n",
       "2                 False  active                 1                   1   \n",
       "3                 False  active                 1                   1   \n",
       "4                 False  active                 1                   1   \n",
       "...                 ...     ...               ...                 ...   \n",
       "99368             False  active                 1                   1   \n",
       "99369             False  active                 5                   5   \n",
       "99370             False  active                 1                   1   \n",
       "99371             False  active                 1                   1   \n",
       "99372             False  active                 1                   1   \n",
       "\n",
       "       free_shipping           mode  local_pick_up  \n",
       "0              False  not_specified           True  \n",
       "1              False            me2           True  \n",
       "2              False            me2           True  \n",
       "3              False            me2           True  \n",
       "4              False  not_specified           True  \n",
       "...              ...            ...            ...  \n",
       "99368          False            me2           True  \n",
       "99369          False  not_specified          False  \n",
       "99370          False            me2          False  \n",
       "99371          False            me2           True  \n",
       "99372          False            me2           True  \n",
       "\n",
       "[99373 rows x 12 columns]"
      ]
     },
     "execution_count": 2,
     "metadata": {},
     "output_type": "execute_result"
    }
   ],
   "source": [
    "df = pd.read_csv(\"../data/clean_data.csv\")\n",
    "df"
   ]
  },
  {
   "cell_type": "code",
   "execution_count": 3,
   "metadata": {},
   "outputs": [
    {
     "data": {
      "text/plain": [
       "Index(['condition', 'listing_type_id', 'price', 'buying_mode',\n",
       "       'accepts_mercadopago', 'automatic_relist', 'status', 'initial_quantity',\n",
       "       'available_quantity', 'free_shipping', 'mode', 'local_pick_up'],\n",
       "      dtype='object')"
      ]
     },
     "execution_count": 3,
     "metadata": {},
     "output_type": "execute_result"
    }
   ],
   "source": [
    "original_col = df.columns\n",
    "df.columns"
   ]
  },
  {
   "cell_type": "code",
   "execution_count": 4,
   "metadata": {},
   "outputs": [
    {
     "name": "stdout",
     "output_type": "stream",
     "text": [
      "<class 'pandas.core.frame.DataFrame'>\n",
      "RangeIndex: 99373 entries, 0 to 99372\n",
      "Data columns (total 12 columns):\n",
      " #   Column               Non-Null Count  Dtype  \n",
      "---  ------               --------------  -----  \n",
      " 0   condition            99373 non-null  object \n",
      " 1   listing_type_id      99373 non-null  object \n",
      " 2   price                99373 non-null  float64\n",
      " 3   buying_mode          99373 non-null  object \n",
      " 4   accepts_mercadopago  99373 non-null  bool   \n",
      " 5   automatic_relist     99373 non-null  bool   \n",
      " 6   status               99373 non-null  object \n",
      " 7   initial_quantity     99373 non-null  int64  \n",
      " 8   available_quantity   99373 non-null  int64  \n",
      " 9   free_shipping        99373 non-null  bool   \n",
      " 10  mode                 99373 non-null  object \n",
      " 11  local_pick_up        99373 non-null  bool   \n",
      "dtypes: bool(4), float64(1), int64(2), object(5)\n",
      "memory usage: 6.4+ MB\n"
     ]
    }
   ],
   "source": [
    "df.info()"
   ]
  },
  {
   "cell_type": "markdown",
   "metadata": {},
   "source": [
    "### **Libraries for creating models**"
   ]
  },
  {
   "cell_type": "code",
   "execution_count": 5,
   "metadata": {},
   "outputs": [],
   "source": [
    "from sklearn.model_selection import train_test_split\n",
    "from sklearn.preprocessing import LabelEncoder\n",
    "from sklearn.linear_model import LogisticRegression\n",
    "from sklearn.ensemble import RandomForestClassifier\n",
    "from sklearn.tree import DecisionTreeClassifier\n",
    "from xgboost import XGBClassifier\n",
    "from sklearn.metrics import accuracy_score, precision_score, recall_score, f1_score\n",
    "import matplotlib.pyplot as plt"
   ]
  },
  {
   "cell_type": "code",
   "execution_count": 7,
   "metadata": {},
   "outputs": [],
   "source": [
    "le = LabelEncoder()\n",
    "df['condition'] = le.fit_transform(df['condition'])  # 0 = usado, 1 = nuevo\n",
    "\n",
    "df = pd.get_dummies(df, columns=['listing_type_id', 'buying_mode', 'status', 'mode'])"
   ]
  },
  {
   "cell_type": "code",
   "execution_count": 8,
   "metadata": {},
   "outputs": [
    {
     "data": {
      "image/png": "[encoded data removed]",
      "text/plain": [
       "<Figure size 640x480 with 1 Axes>"
      ]
     },
     "metadata": {},
     "output_type": "display_data"
    }
   ],
   "source": [
    "conteo_valores = df['condition'].value_counts()\n",
    "\n",
    "conteo_valores.plot(kind='bar')\n",
    "\n",
    "plt.xlabel('Categorías')\n",
    "plt.ylabel('Frecuencia')\n",
    "plt.title('Gráfica de barras de la columna condición')\n",
    "\n",
    "plt.xticks(ticks=[0, 1], labels=['used', 'new'])\n",
    "\n",
    "plt.show()"
   ]
  },
  {
   "cell_type": "markdown",
   "metadata": {},
   "source": [
    "### **Training and Testing**"
   ]
  },
  {
   "cell_type": "code",
   "execution_count": 9,
   "metadata": {},
   "outputs": [
    {
     "name": "stdout",
     "output_type": "stream",
     "text": [
      "\n",
      "========== Logistic Regression ==========\n",
      "Accuracy: 0.5338 | Precision: 0.0000 | Recall: 0.0000 | F1-Score: 0.0000\n"
     ]
    },
    {
     "name": "stderr",
     "output_type": "stream",
     "text": [
      "c:\\semestres_uao\\ETL\\Talleres\\model_training\\venv\\Lib\\site-packages\\sklearn\\metrics\\_classification.py:1531: UndefinedMetricWarning: Precision is ill-defined and being set to 0.0 due to no predicted samples. Use `zero_division` parameter to control this behavior.\n",
      "  _warn_prf(average, modifier, f\"{metric.capitalize()} is\", len(result))\n"
     ]
    },
    {
     "name": "stdout",
     "output_type": "stream",
     "text": [
      "\n",
      "========== Random Forest ==========\n",
      "Accuracy: 0.8243 | Precision: 0.7819 | Recall: 0.8642 | F1-Score: 0.8210\n",
      "\n",
      "========== Decision Tree ==========\n",
      "Accuracy: 0.8216 | Precision: 0.7825 | Recall: 0.8551 | F1-Score: 0.8172\n"
     ]
    },
    {
     "name": "stderr",
     "output_type": "stream",
     "text": [
      "c:\\semestres_uao\\ETL\\Talleres\\model_training\\venv\\Lib\\site-packages\\xgboost\\training.py:183: UserWarning: [17:35:20] WARNING: C:\\actions-runner\\_work\\xgboost\\xgboost\\src\\learner.cc:738: \n",
      "Parameters: { \"use_label_encoder\" } are not used.\n",
      "\n",
      "  bst.update(dtrain, iteration=i, fobj=obj)\n"
     ]
    },
    {
     "name": "stdout",
     "output_type": "stream",
     "text": [
      "\n",
      "========== XGBoost ==========\n",
      "Accuracy: 0.8285 | Precision: 0.8049 | Recall: 0.8344 | F1-Score: 0.8194\n"
     ]
    }
   ],
   "source": [
    "X = df.drop('condition', axis=1)\n",
    "y = df['condition']\n",
    "\n",
    "X_train, X_test, y_train, y_test = train_test_split(X, y, test_size=0.2, random_state=42)\n",
    "\n",
    "# Definir los modelos a probar\n",
    "estimators = {\n",
    "    'Logistic Regression': LogisticRegression(max_iter=1000),\n",
    "    'Random Forest': RandomForestClassifier(n_estimators=100, random_state=42),\n",
    "    'Decision Tree': DecisionTreeClassifier(random_state=42),\n",
    "    'XGBoost': XGBClassifier(use_label_encoder=False, eval_metric='mlogloss')\n",
    "}\n",
    "\n",
    "# Ejecutar los modelos y evaluar el rendimiento\n",
    "for name, estimator in estimators.items():\n",
    "    # Entrenar el modelo\n",
    "    estimator.fit(X_train, y_train)\n",
    "    \n",
    "    # Hacer predicciones\n",
    "    y_pred = estimator.predict(X_test)\n",
    "    \n",
    "    print(f\"\\n========== {name} ==========\")\n",
    "    print(f\"Accuracy: {accuracy_score(y_test, y_pred):.4f} | Precision: {precision_score(y_test, y_pred):.4f} | Recall: {recall_score(y_test, y_pred):.4f} | F1-Score: {f1_score(y_test, y_pred):.4f}\")"
   ]
  },
  {
   "cell_type": "markdown",
   "metadata": {},
   "source": [
    "### **Graphing of the most important columns of the Random XGBoost model**"
   ]
  },
  {
   "cell_type": "code",
   "execution_count": null,
   "metadata": {},
   "outputs": [
    {
     "data": {
      "image/png": "[encoded data removed]",
      "text/plain": [
       "<Figure size 1000x600 with 1 Axes>"
      ]
     },
     "metadata": {},
     "output_type": "display_data"
    }
   ],
   "source": [
    "rf = XGBClassifier(n_estimators=100, random_state=42)\n",
    "rf.fit(X_train, y_train)\n",
    "\n",
    "importances = rf.feature_importances_\n",
    "\n",
    "feature_importance_df = pd.DataFrame({\n",
    "    'Feature': X.columns,\n",
    "    'Importance': importances\n",
    "})\n",
    "\n",
    "# Filtrar el DataFrame para solo las columnas originales\n",
    "feature_importance_df = feature_importance_df[feature_importance_df['Feature'].isin(original_col)]\n",
    "\n",
    "feature_importance_df = feature_importance_df.sort_values(by='Importance', ascending=False)\n",
    "\n",
    "plt.figure(figsize=(10, 6))\n",
    "sns.barplot(x='Importance', y='Feature', data=feature_importance_df, color='blue')\n",
    "plt.title('Feature Importances (Original Columns)')\n",
    "plt.xlabel('Importance')\n",
    "plt.ylabel('Feature')\n",
    "plt.show()"
   ]
  },
  {
   "cell_type": "markdown",
   "metadata": {},
   "source": [
    "## Saving the model in PKL"
   ]
  },
  {
   "cell_type": "code",
   "execution_count": 14,
   "metadata": {},
   "outputs": [
    {
     "name": "stdout",
     "output_type": "stream",
     "text": [
      "Modelo guardado exitosamente\n"
     ]
    }
   ],
   "source": [
    "import joblib\n",
    "\n",
    "rf = XGBClassifier(n_estimators=100, random_state=42)\n",
    "rf.fit(X_train, y_train)\n",
    "\n",
    "joblib.dump(rf, '../model/XGboost.pkl')\n",
    "print(\"Modelo guardado exitosamente\")"
   ]
  }
 ],
 "metadata": {
  "kernelspec": {
   "display_name": "venv",
   "language": "python",
   "name": "python3"
  },
  "language_info": {
   "codemirror_mode": {
    "name": "ipython",
    "version": 3
   },
   "file_extension": ".py",
   "mimetype": "text/x-python",
   "name": "python",
   "nbconvert_exporter": "python",
   "pygments_lexer": "ipython3",
   "version": "3.12.3"
  }
 },
 "nbformat": 4,
 "nbformat_minor": 2
}
